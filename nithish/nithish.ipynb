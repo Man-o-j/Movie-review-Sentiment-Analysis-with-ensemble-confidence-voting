{
 "cells": [
  {
   "cell_type": "markdown",
   "metadata": {},
   "source": [
    "## pre-processing"
   ]
  },
  {
   "cell_type": "code",
   "execution_count": 1,
   "metadata": {},
   "outputs": [],
   "source": [
    "import pandas as pd"
   ]
  },
  {
   "cell_type": "code",
   "execution_count": 2,
   "metadata": {},
   "outputs": [],
   "source": [
    "data = pd.read_csv(\"../dataset/reviews.csv\")"
   ]
  },
  {
   "cell_type": "code",
   "execution_count": 3,
   "metadata": {},
   "outputs": [
    {
     "data": {
      "text/html": [
       "<div>\n",
       "<style scoped>\n",
       "    .dataframe tbody tr th:only-of-type {\n",
       "        vertical-align: middle;\n",
       "    }\n",
       "\n",
       "    .dataframe tbody tr th {\n",
       "        vertical-align: top;\n",
       "    }\n",
       "\n",
       "    .dataframe thead th {\n",
       "        text-align: right;\n",
       "    }\n",
       "</style>\n",
       "<table border=\"1\" class=\"dataframe\">\n",
       "  <thead>\n",
       "    <tr style=\"text-align: right;\">\n",
       "      <th></th>\n",
       "      <th>Unnamed: 0</th>\n",
       "      <th>position</th>\n",
       "      <th>midb_id</th>\n",
       "      <th>movie</th>\n",
       "      <th>spoilers</th>\n",
       "      <th>rating</th>\n",
       "      <th>title</th>\n",
       "      <th>user</th>\n",
       "      <th>date</th>\n",
       "      <th>content</th>\n",
       "    </tr>\n",
       "  </thead>\n",
       "  <tbody>\n",
       "    <tr>\n",
       "      <th>0</th>\n",
       "      <td>0</td>\n",
       "      <td>0</td>\n",
       "      <td>tt0111161</td>\n",
       "      <td>The Shawshank Redemption</td>\n",
       "      <td>False</td>\n",
       "      <td>1/10</td>\n",
       "      <td>Pale imitation of better films</td>\n",
       "      <td>sbaradell</td>\n",
       "      <td>10 July 2003</td>\n",
       "      <td>Three words: \"Cool Hand Luke.\"  Same film, don...</td>\n",
       "    </tr>\n",
       "    <tr>\n",
       "      <th>1</th>\n",
       "      <td>1</td>\n",
       "      <td>0</td>\n",
       "      <td>tt0111161</td>\n",
       "      <td>The Shawshank Redemption</td>\n",
       "      <td>False</td>\n",
       "      <td>1/10</td>\n",
       "      <td>Didactic and overlong</td>\n",
       "      <td>arthur_pewtey</td>\n",
       "      <td>19 November 2000</td>\n",
       "      <td>Another one of those overlong morally right-on...</td>\n",
       "    </tr>\n",
       "    <tr>\n",
       "      <th>2</th>\n",
       "      <td>2</td>\n",
       "      <td>0</td>\n",
       "      <td>tt0111161</td>\n",
       "      <td>The Shawshank Redemption</td>\n",
       "      <td>False</td>\n",
       "      <td>1/10</td>\n",
       "      <td>Mediocre people reward mediocre cinema.</td>\n",
       "      <td>kylemax</td>\n",
       "      <td>24 May 2005</td>\n",
       "      <td>It bugs me that this movie is rated so high- n...</td>\n",
       "    </tr>\n",
       "    <tr>\n",
       "      <th>3</th>\n",
       "      <td>3</td>\n",
       "      <td>0</td>\n",
       "      <td>tt0111161</td>\n",
       "      <td>The Shawshank Redemption</td>\n",
       "      <td>False</td>\n",
       "      <td>1/10</td>\n",
       "      <td>The plain &amp; simple truth. It doesn\\'t deserve ...</td>\n",
       "      <td>lukemccaine</td>\n",
       "      <td>10 June 2007</td>\n",
       "      <td>just read the title. Tough I think it's a pret...</td>\n",
       "    </tr>\n",
       "    <tr>\n",
       "      <th>4</th>\n",
       "      <td>4</td>\n",
       "      <td>0</td>\n",
       "      <td>tt0111161</td>\n",
       "      <td>The Shawshank Redemption</td>\n",
       "      <td>False</td>\n",
       "      <td>1/10</td>\n",
       "      <td>Not the greatest movie of all time</td>\n",
       "      <td>Hollywd-2</td>\n",
       "      <td>10 May 1999</td>\n",
       "      <td>Shawshank is nothing more than a fairy tale.  ...</td>\n",
       "    </tr>\n",
       "  </tbody>\n",
       "</table>\n",
       "</div>"
      ],
      "text/plain": [
       "   Unnamed: 0  position    midb_id                     movie  spoilers rating  \\\n",
       "0           0         0  tt0111161  The Shawshank Redemption     False   1/10   \n",
       "1           1         0  tt0111161  The Shawshank Redemption     False   1/10   \n",
       "2           2         0  tt0111161  The Shawshank Redemption     False   1/10   \n",
       "3           3         0  tt0111161  The Shawshank Redemption     False   1/10   \n",
       "4           4         0  tt0111161  The Shawshank Redemption     False   1/10   \n",
       "\n",
       "                                               title           user  \\\n",
       "0                     Pale imitation of better films      sbaradell   \n",
       "1                              Didactic and overlong  arthur_pewtey   \n",
       "2            Mediocre people reward mediocre cinema.        kylemax   \n",
       "3  The plain & simple truth. It doesn\\'t deserve ...    lukemccaine   \n",
       "4                 Not the greatest movie of all time      Hollywd-2   \n",
       "\n",
       "               date                                            content  \n",
       "0      10 July 2003  Three words: \"Cool Hand Luke.\"  Same film, don...  \n",
       "1  19 November 2000  Another one of those overlong morally right-on...  \n",
       "2       24 May 2005  It bugs me that this movie is rated so high- n...  \n",
       "3      10 June 2007  just read the title. Tough I think it's a pret...  \n",
       "4       10 May 1999  Shawshank is nothing more than a fairy tale.  ...  "
      ]
     },
     "execution_count": 3,
     "metadata": {},
     "output_type": "execute_result"
    }
   ],
   "source": [
    "data.head()"
   ]
  },
  {
   "cell_type": "code",
   "execution_count": 4,
   "metadata": {},
   "outputs": [
    {
     "data": {
      "text/html": [
       "<div>\n",
       "<style scoped>\n",
       "    .dataframe tbody tr th:only-of-type {\n",
       "        vertical-align: middle;\n",
       "    }\n",
       "\n",
       "    .dataframe tbody tr th {\n",
       "        vertical-align: top;\n",
       "    }\n",
       "\n",
       "    .dataframe thead th {\n",
       "        text-align: right;\n",
       "    }\n",
       "</style>\n",
       "<table border=\"1\" class=\"dataframe\">\n",
       "  <thead>\n",
       "    <tr style=\"text-align: right;\">\n",
       "      <th></th>\n",
       "      <th>movie</th>\n",
       "      <th>rating</th>\n",
       "      <th>title</th>\n",
       "      <th>content</th>\n",
       "    </tr>\n",
       "  </thead>\n",
       "  <tbody>\n",
       "    <tr>\n",
       "      <th>0</th>\n",
       "      <td>The Shawshank Redemption</td>\n",
       "      <td>1/10</td>\n",
       "      <td>Pale imitation of better films</td>\n",
       "      <td>Three words: \"Cool Hand Luke.\"  Same film, don...</td>\n",
       "    </tr>\n",
       "    <tr>\n",
       "      <th>1</th>\n",
       "      <td>The Shawshank Redemption</td>\n",
       "      <td>1/10</td>\n",
       "      <td>Didactic and overlong</td>\n",
       "      <td>Another one of those overlong morally right-on...</td>\n",
       "    </tr>\n",
       "    <tr>\n",
       "      <th>2</th>\n",
       "      <td>The Shawshank Redemption</td>\n",
       "      <td>1/10</td>\n",
       "      <td>Mediocre people reward mediocre cinema.</td>\n",
       "      <td>It bugs me that this movie is rated so high- n...</td>\n",
       "    </tr>\n",
       "    <tr>\n",
       "      <th>3</th>\n",
       "      <td>The Shawshank Redemption</td>\n",
       "      <td>1/10</td>\n",
       "      <td>The plain &amp; simple truth. It doesn\\'t deserve ...</td>\n",
       "      <td>just read the title. Tough I think it's a pret...</td>\n",
       "    </tr>\n",
       "    <tr>\n",
       "      <th>4</th>\n",
       "      <td>The Shawshank Redemption</td>\n",
       "      <td>1/10</td>\n",
       "      <td>Not the greatest movie of all time</td>\n",
       "      <td>Shawshank is nothing more than a fairy tale.  ...</td>\n",
       "    </tr>\n",
       "  </tbody>\n",
       "</table>\n",
       "</div>"
      ],
      "text/plain": [
       "                      movie rating  \\\n",
       "0  The Shawshank Redemption   1/10   \n",
       "1  The Shawshank Redemption   1/10   \n",
       "2  The Shawshank Redemption   1/10   \n",
       "3  The Shawshank Redemption   1/10   \n",
       "4  The Shawshank Redemption   1/10   \n",
       "\n",
       "                                               title  \\\n",
       "0                     Pale imitation of better films   \n",
       "1                              Didactic and overlong   \n",
       "2            Mediocre people reward mediocre cinema.   \n",
       "3  The plain & simple truth. It doesn\\'t deserve ...   \n",
       "4                 Not the greatest movie of all time   \n",
       "\n",
       "                                             content  \n",
       "0  Three words: \"Cool Hand Luke.\"  Same film, don...  \n",
       "1  Another one of those overlong morally right-on...  \n",
       "2  It bugs me that this movie is rated so high- n...  \n",
       "3  just read the title. Tough I think it's a pret...  \n",
       "4  Shawshank is nothing more than a fairy tale.  ...  "
      ]
     },
     "execution_count": 4,
     "metadata": {},
     "output_type": "execute_result"
    }
   ],
   "source": [
    "df = data[[\"movie\", \"rating\", \"title\",\"content\"]]\n",
    "df.head()"
   ]
  },
  {
   "cell_type": "code",
   "execution_count": 5,
   "metadata": {},
   "outputs": [
    {
     "data": {
      "text/plain": [
       "'!\"#$%&\\'()*+,-./:;<=>?@[\\\\]^_`{|}~'"
      ]
     },
     "execution_count": 5,
     "metadata": {},
     "output_type": "execute_result"
    }
   ],
   "source": [
    "import string\n",
    "string.punctuation"
   ]
  },
  {
   "cell_type": "markdown",
   "metadata": {},
   "source": [
    "## removing punctuations"
   ]
  },
  {
   "cell_type": "code",
   "execution_count": 6,
   "metadata": {},
   "outputs": [
    {
     "name": "stderr",
     "output_type": "stream",
     "text": [
      "C:\\Users\\usrni\\AppData\\Local\\Temp\\ipykernel_10068\\1711607980.py:5: SettingWithCopyWarning: \n",
      "A value is trying to be set on a copy of a slice from a DataFrame.\n",
      "Try using .loc[row_indexer,col_indexer] = value instead\n",
      "\n",
      "See the caveats in the documentation: https://pandas.pydata.org/pandas-docs/stable/user_guide/indexing.html#returning-a-view-versus-a-copy\n",
      "  df['clean_msg']= df['content'].apply(lambda x:remove_punctuation(x))\n"
     ]
    },
    {
     "data": {
      "text/html": [
       "<div>\n",
       "<style scoped>\n",
       "    .dataframe tbody tr th:only-of-type {\n",
       "        vertical-align: middle;\n",
       "    }\n",
       "\n",
       "    .dataframe tbody tr th {\n",
       "        vertical-align: top;\n",
       "    }\n",
       "\n",
       "    .dataframe thead th {\n",
       "        text-align: right;\n",
       "    }\n",
       "</style>\n",
       "<table border=\"1\" class=\"dataframe\">\n",
       "  <thead>\n",
       "    <tr style=\"text-align: right;\">\n",
       "      <th></th>\n",
       "      <th>movie</th>\n",
       "      <th>rating</th>\n",
       "      <th>title</th>\n",
       "      <th>content</th>\n",
       "      <th>clean_msg</th>\n",
       "    </tr>\n",
       "  </thead>\n",
       "  <tbody>\n",
       "    <tr>\n",
       "      <th>0</th>\n",
       "      <td>The Shawshank Redemption</td>\n",
       "      <td>1/10</td>\n",
       "      <td>Pale imitation of better films</td>\n",
       "      <td>Three words: \"Cool Hand Luke.\"  Same film, don...</td>\n",
       "      <td>Three words Cool Hand Luke  Same film done bet...</td>\n",
       "    </tr>\n",
       "    <tr>\n",
       "      <th>1</th>\n",
       "      <td>The Shawshank Redemption</td>\n",
       "      <td>1/10</td>\n",
       "      <td>Didactic and overlong</td>\n",
       "      <td>Another one of those overlong morally right-on...</td>\n",
       "      <td>Another one of those overlong morally righton ...</td>\n",
       "    </tr>\n",
       "    <tr>\n",
       "      <th>2</th>\n",
       "      <td>The Shawshank Redemption</td>\n",
       "      <td>1/10</td>\n",
       "      <td>Mediocre people reward mediocre cinema.</td>\n",
       "      <td>It bugs me that this movie is rated so high- n...</td>\n",
       "      <td>It bugs me that this movie is rated so high no...</td>\n",
       "    </tr>\n",
       "    <tr>\n",
       "      <th>3</th>\n",
       "      <td>The Shawshank Redemption</td>\n",
       "      <td>1/10</td>\n",
       "      <td>The plain &amp; simple truth. It doesn\\'t deserve ...</td>\n",
       "      <td>just read the title. Tough I think it's a pret...</td>\n",
       "      <td>just read the title Tough I think its a pretty...</td>\n",
       "    </tr>\n",
       "    <tr>\n",
       "      <th>4</th>\n",
       "      <td>The Shawshank Redemption</td>\n",
       "      <td>1/10</td>\n",
       "      <td>Not the greatest movie of all time</td>\n",
       "      <td>Shawshank is nothing more than a fairy tale.  ...</td>\n",
       "      <td>Shawshank is nothing more than a fairy tale  I...</td>\n",
       "    </tr>\n",
       "  </tbody>\n",
       "</table>\n",
       "</div>"
      ],
      "text/plain": [
       "                      movie rating  \\\n",
       "0  The Shawshank Redemption   1/10   \n",
       "1  The Shawshank Redemption   1/10   \n",
       "2  The Shawshank Redemption   1/10   \n",
       "3  The Shawshank Redemption   1/10   \n",
       "4  The Shawshank Redemption   1/10   \n",
       "\n",
       "                                               title  \\\n",
       "0                     Pale imitation of better films   \n",
       "1                              Didactic and overlong   \n",
       "2            Mediocre people reward mediocre cinema.   \n",
       "3  The plain & simple truth. It doesn\\'t deserve ...   \n",
       "4                 Not the greatest movie of all time   \n",
       "\n",
       "                                             content  \\\n",
       "0  Three words: \"Cool Hand Luke.\"  Same film, don...   \n",
       "1  Another one of those overlong morally right-on...   \n",
       "2  It bugs me that this movie is rated so high- n...   \n",
       "3  just read the title. Tough I think it's a pret...   \n",
       "4  Shawshank is nothing more than a fairy tale.  ...   \n",
       "\n",
       "                                           clean_msg  \n",
       "0  Three words Cool Hand Luke  Same film done bet...  \n",
       "1  Another one of those overlong morally righton ...  \n",
       "2  It bugs me that this movie is rated so high no...  \n",
       "3  just read the title Tough I think its a pretty...  \n",
       "4  Shawshank is nothing more than a fairy tale  I...  "
      ]
     },
     "execution_count": 6,
     "metadata": {},
     "output_type": "execute_result"
    }
   ],
   "source": [
    "def remove_punctuation(text):\n",
    "    punctuationfree=\"\".join([i for i in text if i not in string.punctuation])\n",
    "    return punctuationfree\n",
    "#storing the puntuation free text\n",
    "df['clean_msg']= df['content'].apply(lambda x:remove_punctuation(x))\n",
    "df.head()"
   ]
  },
  {
   "cell_type": "markdown",
   "metadata": {},
   "source": [
    "## to lower"
   ]
  },
  {
   "cell_type": "code",
   "execution_count": 7,
   "metadata": {},
   "outputs": [
    {
     "name": "stderr",
     "output_type": "stream",
     "text": [
      "C:\\Users\\usrni\\AppData\\Local\\Temp\\ipykernel_10068\\1703008341.py:1: SettingWithCopyWarning: \n",
      "A value is trying to be set on a copy of a slice from a DataFrame.\n",
      "Try using .loc[row_indexer,col_indexer] = value instead\n",
      "\n",
      "See the caveats in the documentation: https://pandas.pydata.org/pandas-docs/stable/user_guide/indexing.html#returning-a-view-versus-a-copy\n",
      "  df['msg_lower']= df['clean_msg'].apply(lambda x: x.lower())\n"
     ]
    }
   ],
   "source": [
    "df['msg_lower']= df['clean_msg'].apply(lambda x: x.lower())"
   ]
  },
  {
   "cell_type": "code",
   "execution_count": 8,
   "metadata": {},
   "outputs": [
    {
     "data": {
      "text/html": [
       "<div>\n",
       "<style scoped>\n",
       "    .dataframe tbody tr th:only-of-type {\n",
       "        vertical-align: middle;\n",
       "    }\n",
       "\n",
       "    .dataframe tbody tr th {\n",
       "        vertical-align: top;\n",
       "    }\n",
       "\n",
       "    .dataframe thead th {\n",
       "        text-align: right;\n",
       "    }\n",
       "</style>\n",
       "<table border=\"1\" class=\"dataframe\">\n",
       "  <thead>\n",
       "    <tr style=\"text-align: right;\">\n",
       "      <th></th>\n",
       "      <th>movie</th>\n",
       "      <th>rating</th>\n",
       "      <th>title</th>\n",
       "      <th>content</th>\n",
       "      <th>clean_msg</th>\n",
       "      <th>msg_lower</th>\n",
       "    </tr>\n",
       "  </thead>\n",
       "  <tbody>\n",
       "    <tr>\n",
       "      <th>0</th>\n",
       "      <td>The Shawshank Redemption</td>\n",
       "      <td>1/10</td>\n",
       "      <td>Pale imitation of better films</td>\n",
       "      <td>Three words: \"Cool Hand Luke.\"  Same film, don...</td>\n",
       "      <td>Three words Cool Hand Luke  Same film done bet...</td>\n",
       "      <td>three words cool hand luke  same film done bet...</td>\n",
       "    </tr>\n",
       "    <tr>\n",
       "      <th>1</th>\n",
       "      <td>The Shawshank Redemption</td>\n",
       "      <td>1/10</td>\n",
       "      <td>Didactic and overlong</td>\n",
       "      <td>Another one of those overlong morally right-on...</td>\n",
       "      <td>Another one of those overlong morally righton ...</td>\n",
       "      <td>another one of those overlong morally righton ...</td>\n",
       "    </tr>\n",
       "    <tr>\n",
       "      <th>2</th>\n",
       "      <td>The Shawshank Redemption</td>\n",
       "      <td>1/10</td>\n",
       "      <td>Mediocre people reward mediocre cinema.</td>\n",
       "      <td>It bugs me that this movie is rated so high- n...</td>\n",
       "      <td>It bugs me that this movie is rated so high no...</td>\n",
       "      <td>it bugs me that this movie is rated so high no...</td>\n",
       "    </tr>\n",
       "    <tr>\n",
       "      <th>3</th>\n",
       "      <td>The Shawshank Redemption</td>\n",
       "      <td>1/10</td>\n",
       "      <td>The plain &amp; simple truth. It doesn\\'t deserve ...</td>\n",
       "      <td>just read the title. Tough I think it's a pret...</td>\n",
       "      <td>just read the title Tough I think its a pretty...</td>\n",
       "      <td>just read the title tough i think its a pretty...</td>\n",
       "    </tr>\n",
       "    <tr>\n",
       "      <th>4</th>\n",
       "      <td>The Shawshank Redemption</td>\n",
       "      <td>1/10</td>\n",
       "      <td>Not the greatest movie of all time</td>\n",
       "      <td>Shawshank is nothing more than a fairy tale.  ...</td>\n",
       "      <td>Shawshank is nothing more than a fairy tale  I...</td>\n",
       "      <td>shawshank is nothing more than a fairy tale  i...</td>\n",
       "    </tr>\n",
       "  </tbody>\n",
       "</table>\n",
       "</div>"
      ],
      "text/plain": [
       "                      movie rating  \\\n",
       "0  The Shawshank Redemption   1/10   \n",
       "1  The Shawshank Redemption   1/10   \n",
       "2  The Shawshank Redemption   1/10   \n",
       "3  The Shawshank Redemption   1/10   \n",
       "4  The Shawshank Redemption   1/10   \n",
       "\n",
       "                                               title  \\\n",
       "0                     Pale imitation of better films   \n",
       "1                              Didactic and overlong   \n",
       "2            Mediocre people reward mediocre cinema.   \n",
       "3  The plain & simple truth. It doesn\\'t deserve ...   \n",
       "4                 Not the greatest movie of all time   \n",
       "\n",
       "                                             content  \\\n",
       "0  Three words: \"Cool Hand Luke.\"  Same film, don...   \n",
       "1  Another one of those overlong morally right-on...   \n",
       "2  It bugs me that this movie is rated so high- n...   \n",
       "3  just read the title. Tough I think it's a pret...   \n",
       "4  Shawshank is nothing more than a fairy tale.  ...   \n",
       "\n",
       "                                           clean_msg  \\\n",
       "0  Three words Cool Hand Luke  Same film done bet...   \n",
       "1  Another one of those overlong morally righton ...   \n",
       "2  It bugs me that this movie is rated so high no...   \n",
       "3  just read the title Tough I think its a pretty...   \n",
       "4  Shawshank is nothing more than a fairy tale  I...   \n",
       "\n",
       "                                           msg_lower  \n",
       "0  three words cool hand luke  same film done bet...  \n",
       "1  another one of those overlong morally righton ...  \n",
       "2  it bugs me that this movie is rated so high no...  \n",
       "3  just read the title tough i think its a pretty...  \n",
       "4  shawshank is nothing more than a fairy tale  i...  "
      ]
     },
     "execution_count": 8,
     "metadata": {},
     "output_type": "execute_result"
    }
   ],
   "source": [
    "df.head()"
   ]
  },
  {
   "cell_type": "code",
   "execution_count": 9,
   "metadata": {},
   "outputs": [],
   "source": [
    "import re"
   ]
  },
  {
   "cell_type": "code",
   "execution_count": 10,
   "metadata": {},
   "outputs": [],
   "source": [
    "import nltk"
   ]
  },
  {
   "cell_type": "code",
   "execution_count": 11,
   "metadata": {},
   "outputs": [
    {
     "name": "stderr",
     "output_type": "stream",
     "text": [
      "[nltk_data] Downloading package punkt to\n",
      "[nltk_data]     C:\\Users\\usrni\\AppData\\Roaming\\nltk_data...\n",
      "[nltk_data]   Package punkt is already up-to-date!\n"
     ]
    },
    {
     "data": {
      "text/plain": [
       "True"
      ]
     },
     "execution_count": 11,
     "metadata": {},
     "output_type": "execute_result"
    }
   ],
   "source": [
    "nltk.download('punkt')"
   ]
  },
  {
   "cell_type": "markdown",
   "metadata": {},
   "source": [
    "## tokenization "
   ]
  },
  {
   "cell_type": "code",
   "execution_count": 12,
   "metadata": {},
   "outputs": [
    {
     "name": "stderr",
     "output_type": "stream",
     "text": [
      "C:\\Users\\usrni\\AppData\\Local\\Temp\\ipykernel_10068\\3426247045.py:1: SettingWithCopyWarning: \n",
      "A value is trying to be set on a copy of a slice from a DataFrame.\n",
      "Try using .loc[row_indexer,col_indexer] = value instead\n",
      "\n",
      "See the caveats in the documentation: https://pandas.pydata.org/pandas-docs/stable/user_guide/indexing.html#returning-a-view-versus-a-copy\n",
      "  df['tokens'] = df['msg_lower'].apply(nltk.word_tokenize)\n"
     ]
    },
    {
     "data": {
      "text/html": [
       "<div>\n",
       "<style scoped>\n",
       "    .dataframe tbody tr th:only-of-type {\n",
       "        vertical-align: middle;\n",
       "    }\n",
       "\n",
       "    .dataframe tbody tr th {\n",
       "        vertical-align: top;\n",
       "    }\n",
       "\n",
       "    .dataframe thead th {\n",
       "        text-align: right;\n",
       "    }\n",
       "</style>\n",
       "<table border=\"1\" class=\"dataframe\">\n",
       "  <thead>\n",
       "    <tr style=\"text-align: right;\">\n",
       "      <th></th>\n",
       "      <th>movie</th>\n",
       "      <th>rating</th>\n",
       "      <th>title</th>\n",
       "      <th>content</th>\n",
       "      <th>clean_msg</th>\n",
       "      <th>msg_lower</th>\n",
       "      <th>tokens</th>\n",
       "    </tr>\n",
       "  </thead>\n",
       "  <tbody>\n",
       "    <tr>\n",
       "      <th>0</th>\n",
       "      <td>The Shawshank Redemption</td>\n",
       "      <td>1/10</td>\n",
       "      <td>Pale imitation of better films</td>\n",
       "      <td>Three words: \"Cool Hand Luke.\"  Same film, don...</td>\n",
       "      <td>Three words Cool Hand Luke  Same film done bet...</td>\n",
       "      <td>three words cool hand luke  same film done bet...</td>\n",
       "      <td>[three, words, cool, hand, luke, same, film, d...</td>\n",
       "    </tr>\n",
       "    <tr>\n",
       "      <th>1</th>\n",
       "      <td>The Shawshank Redemption</td>\n",
       "      <td>1/10</td>\n",
       "      <td>Didactic and overlong</td>\n",
       "      <td>Another one of those overlong morally right-on...</td>\n",
       "      <td>Another one of those overlong morally righton ...</td>\n",
       "      <td>another one of those overlong morally righton ...</td>\n",
       "      <td>[another, one, of, those, overlong, morally, r...</td>\n",
       "    </tr>\n",
       "    <tr>\n",
       "      <th>2</th>\n",
       "      <td>The Shawshank Redemption</td>\n",
       "      <td>1/10</td>\n",
       "      <td>Mediocre people reward mediocre cinema.</td>\n",
       "      <td>It bugs me that this movie is rated so high- n...</td>\n",
       "      <td>It bugs me that this movie is rated so high no...</td>\n",
       "      <td>it bugs me that this movie is rated so high no...</td>\n",
       "      <td>[it, bugs, me, that, this, movie, is, rated, s...</td>\n",
       "    </tr>\n",
       "    <tr>\n",
       "      <th>3</th>\n",
       "      <td>The Shawshank Redemption</td>\n",
       "      <td>1/10</td>\n",
       "      <td>The plain &amp; simple truth. It doesn\\'t deserve ...</td>\n",
       "      <td>just read the title. Tough I think it's a pret...</td>\n",
       "      <td>just read the title Tough I think its a pretty...</td>\n",
       "      <td>just read the title tough i think its a pretty...</td>\n",
       "      <td>[just, read, the, title, tough, i, think, its,...</td>\n",
       "    </tr>\n",
       "    <tr>\n",
       "      <th>4</th>\n",
       "      <td>The Shawshank Redemption</td>\n",
       "      <td>1/10</td>\n",
       "      <td>Not the greatest movie of all time</td>\n",
       "      <td>Shawshank is nothing more than a fairy tale.  ...</td>\n",
       "      <td>Shawshank is nothing more than a fairy tale  I...</td>\n",
       "      <td>shawshank is nothing more than a fairy tale  i...</td>\n",
       "      <td>[shawshank, is, nothing, more, than, a, fairy,...</td>\n",
       "    </tr>\n",
       "  </tbody>\n",
       "</table>\n",
       "</div>"
      ],
      "text/plain": [
       "                      movie rating  \\\n",
       "0  The Shawshank Redemption   1/10   \n",
       "1  The Shawshank Redemption   1/10   \n",
       "2  The Shawshank Redemption   1/10   \n",
       "3  The Shawshank Redemption   1/10   \n",
       "4  The Shawshank Redemption   1/10   \n",
       "\n",
       "                                               title  \\\n",
       "0                     Pale imitation of better films   \n",
       "1                              Didactic and overlong   \n",
       "2            Mediocre people reward mediocre cinema.   \n",
       "3  The plain & simple truth. It doesn\\'t deserve ...   \n",
       "4                 Not the greatest movie of all time   \n",
       "\n",
       "                                             content  \\\n",
       "0  Three words: \"Cool Hand Luke.\"  Same film, don...   \n",
       "1  Another one of those overlong morally right-on...   \n",
       "2  It bugs me that this movie is rated so high- n...   \n",
       "3  just read the title. Tough I think it's a pret...   \n",
       "4  Shawshank is nothing more than a fairy tale.  ...   \n",
       "\n",
       "                                           clean_msg  \\\n",
       "0  Three words Cool Hand Luke  Same film done bet...   \n",
       "1  Another one of those overlong morally righton ...   \n",
       "2  It bugs me that this movie is rated so high no...   \n",
       "3  just read the title Tough I think its a pretty...   \n",
       "4  Shawshank is nothing more than a fairy tale  I...   \n",
       "\n",
       "                                           msg_lower  \\\n",
       "0  three words cool hand luke  same film done bet...   \n",
       "1  another one of those overlong morally righton ...   \n",
       "2  it bugs me that this movie is rated so high no...   \n",
       "3  just read the title tough i think its a pretty...   \n",
       "4  shawshank is nothing more than a fairy tale  i...   \n",
       "\n",
       "                                              tokens  \n",
       "0  [three, words, cool, hand, luke, same, film, d...  \n",
       "1  [another, one, of, those, overlong, morally, r...  \n",
       "2  [it, bugs, me, that, this, movie, is, rated, s...  \n",
       "3  [just, read, the, title, tough, i, think, its,...  \n",
       "4  [shawshank, is, nothing, more, than, a, fairy,...  "
      ]
     },
     "execution_count": 12,
     "metadata": {},
     "output_type": "execute_result"
    }
   ],
   "source": [
    "df['tokens'] = df['msg_lower'].apply(nltk.word_tokenize)\n",
    "df.head()"
   ]
  },
  {
   "cell_type": "markdown",
   "metadata": {},
   "source": [
    "## getting in stop-words"
   ]
  },
  {
   "cell_type": "code",
   "execution_count": 13,
   "metadata": {},
   "outputs": [],
   "source": [
    "with open('../nithish/stopwords.txt') as f:\n",
    "    stopwords = f.readlines()\n",
    "    f.close()\n",
    "stopwords = [w.split('\\n')[0] for w in stopwords if w.endswith('\\n')]"
   ]
  },
  {
   "cell_type": "markdown",
   "metadata": {},
   "source": [
    "## removing stop words"
   ]
  },
  {
   "cell_type": "code",
   "execution_count": 14,
   "metadata": {},
   "outputs": [
    {
     "name": "stderr",
     "output_type": "stream",
     "text": [
      "C:\\Users\\usrni\\AppData\\Local\\Temp\\ipykernel_10068\\3184666657.py:4: SettingWithCopyWarning: \n",
      "A value is trying to be set on a copy of a slice from a DataFrame.\n",
      "Try using .loc[row_indexer,col_indexer] = value instead\n",
      "\n",
      "See the caveats in the documentation: https://pandas.pydata.org/pandas-docs/stable/user_guide/indexing.html#returning-a-view-versus-a-copy\n",
      "  df['no_stopwords']= df['tokens'].apply(lambda x:remove_stopwords(x))\n"
     ]
    }
   ],
   "source": [
    "def remove_stopwords(text):\n",
    "    output= [i for i in text if i not in stopwords]\n",
    "    return output\n",
    "df['no_stopwords']= df['tokens'].apply(lambda x:remove_stopwords(x))"
   ]
  },
  {
   "cell_type": "code",
   "execution_count": 15,
   "metadata": {},
   "outputs": [
    {
     "data": {
      "text/html": [
       "<div>\n",
       "<style scoped>\n",
       "    .dataframe tbody tr th:only-of-type {\n",
       "        vertical-align: middle;\n",
       "    }\n",
       "\n",
       "    .dataframe tbody tr th {\n",
       "        vertical-align: top;\n",
       "    }\n",
       "\n",
       "    .dataframe thead th {\n",
       "        text-align: right;\n",
       "    }\n",
       "</style>\n",
       "<table border=\"1\" class=\"dataframe\">\n",
       "  <thead>\n",
       "    <tr style=\"text-align: right;\">\n",
       "      <th></th>\n",
       "      <th>movie</th>\n",
       "      <th>rating</th>\n",
       "      <th>title</th>\n",
       "      <th>content</th>\n",
       "      <th>clean_msg</th>\n",
       "      <th>msg_lower</th>\n",
       "      <th>tokens</th>\n",
       "      <th>no_stopwords</th>\n",
       "    </tr>\n",
       "  </thead>\n",
       "  <tbody>\n",
       "    <tr>\n",
       "      <th>0</th>\n",
       "      <td>The Shawshank Redemption</td>\n",
       "      <td>1/10</td>\n",
       "      <td>Pale imitation of better films</td>\n",
       "      <td>Three words: \"Cool Hand Luke.\"  Same film, don...</td>\n",
       "      <td>Three words Cool Hand Luke  Same film done bet...</td>\n",
       "      <td>three words cool hand luke  same film done bet...</td>\n",
       "      <td>[three, words, cool, hand, luke, same, film, d...</td>\n",
       "      <td>[words, cool, hand, luke, film, earlier, matte...</td>\n",
       "    </tr>\n",
       "    <tr>\n",
       "      <th>1</th>\n",
       "      <td>The Shawshank Redemption</td>\n",
       "      <td>1/10</td>\n",
       "      <td>Didactic and overlong</td>\n",
       "      <td>Another one of those overlong morally right-on...</td>\n",
       "      <td>Another one of those overlong morally righton ...</td>\n",
       "      <td>another one of those overlong morally righton ...</td>\n",
       "      <td>[another, one, of, those, overlong, morally, r...</td>\n",
       "      <td>[overlong, morally, righton, movies, rises, av...</td>\n",
       "    </tr>\n",
       "    <tr>\n",
       "      <th>2</th>\n",
       "      <td>The Shawshank Redemption</td>\n",
       "      <td>1/10</td>\n",
       "      <td>Mediocre people reward mediocre cinema.</td>\n",
       "      <td>It bugs me that this movie is rated so high- n...</td>\n",
       "      <td>It bugs me that this movie is rated so high no...</td>\n",
       "      <td>it bugs me that this movie is rated so high no...</td>\n",
       "      <td>[it, bugs, me, that, this, movie, is, rated, s...</td>\n",
       "      <td>[bugs, movie, rated, high, bad, movie, mediocr...</td>\n",
       "    </tr>\n",
       "    <tr>\n",
       "      <th>3</th>\n",
       "      <td>The Shawshank Redemption</td>\n",
       "      <td>1/10</td>\n",
       "      <td>The plain &amp; simple truth. It doesn\\'t deserve ...</td>\n",
       "      <td>just read the title. Tough I think it's a pret...</td>\n",
       "      <td>just read the title Tough I think its a pretty...</td>\n",
       "      <td>just read the title tough i think its a pretty...</td>\n",
       "      <td>[just, read, the, title, tough, i, think, its,...</td>\n",
       "      <td>[just, read, title, tough, think, pretty, dece...</td>\n",
       "    </tr>\n",
       "    <tr>\n",
       "      <th>4</th>\n",
       "      <td>The Shawshank Redemption</td>\n",
       "      <td>1/10</td>\n",
       "      <td>Not the greatest movie of all time</td>\n",
       "      <td>Shawshank is nothing more than a fairy tale.  ...</td>\n",
       "      <td>Shawshank is nothing more than a fairy tale  I...</td>\n",
       "      <td>shawshank is nothing more than a fairy tale  i...</td>\n",
       "      <td>[shawshank, is, nothing, more, than, a, fairy,...</td>\n",
       "      <td>[shawshank, fairy, tale, tells, prison, like, ...</td>\n",
       "    </tr>\n",
       "  </tbody>\n",
       "</table>\n",
       "</div>"
      ],
      "text/plain": [
       "                      movie rating  \\\n",
       "0  The Shawshank Redemption   1/10   \n",
       "1  The Shawshank Redemption   1/10   \n",
       "2  The Shawshank Redemption   1/10   \n",
       "3  The Shawshank Redemption   1/10   \n",
       "4  The Shawshank Redemption   1/10   \n",
       "\n",
       "                                               title  \\\n",
       "0                     Pale imitation of better films   \n",
       "1                              Didactic and overlong   \n",
       "2            Mediocre people reward mediocre cinema.   \n",
       "3  The plain & simple truth. It doesn\\'t deserve ...   \n",
       "4                 Not the greatest movie of all time   \n",
       "\n",
       "                                             content  \\\n",
       "0  Three words: \"Cool Hand Luke.\"  Same film, don...   \n",
       "1  Another one of those overlong morally right-on...   \n",
       "2  It bugs me that this movie is rated so high- n...   \n",
       "3  just read the title. Tough I think it's a pret...   \n",
       "4  Shawshank is nothing more than a fairy tale.  ...   \n",
       "\n",
       "                                           clean_msg  \\\n",
       "0  Three words Cool Hand Luke  Same film done bet...   \n",
       "1  Another one of those overlong morally righton ...   \n",
       "2  It bugs me that this movie is rated so high no...   \n",
       "3  just read the title Tough I think its a pretty...   \n",
       "4  Shawshank is nothing more than a fairy tale  I...   \n",
       "\n",
       "                                           msg_lower  \\\n",
       "0  three words cool hand luke  same film done bet...   \n",
       "1  another one of those overlong morally righton ...   \n",
       "2  it bugs me that this movie is rated so high no...   \n",
       "3  just read the title tough i think its a pretty...   \n",
       "4  shawshank is nothing more than a fairy tale  i...   \n",
       "\n",
       "                                              tokens  \\\n",
       "0  [three, words, cool, hand, luke, same, film, d...   \n",
       "1  [another, one, of, those, overlong, morally, r...   \n",
       "2  [it, bugs, me, that, this, movie, is, rated, s...   \n",
       "3  [just, read, the, title, tough, i, think, its,...   \n",
       "4  [shawshank, is, nothing, more, than, a, fairy,...   \n",
       "\n",
       "                                        no_stopwords  \n",
       "0  [words, cool, hand, luke, film, earlier, matte...  \n",
       "1  [overlong, morally, righton, movies, rises, av...  \n",
       "2  [bugs, movie, rated, high, bad, movie, mediocr...  \n",
       "3  [just, read, title, tough, think, pretty, dece...  \n",
       "4  [shawshank, fairy, tale, tells, prison, like, ...  "
      ]
     },
     "execution_count": 15,
     "metadata": {},
     "output_type": "execute_result"
    }
   ],
   "source": [
    "df.head()"
   ]
  },
  {
   "cell_type": "markdown",
   "metadata": {},
   "source": [
    "## Stemming process"
   ]
  },
  {
   "cell_type": "code",
   "execution_count": 16,
   "metadata": {},
   "outputs": [],
   "source": [
    "from nltk.stem.porter import PorterStemmer"
   ]
  },
  {
   "cell_type": "code",
   "execution_count": 17,
   "metadata": {},
   "outputs": [],
   "source": [
    "porter_stemmer = PorterStemmer()"
   ]
  },
  {
   "cell_type": "code",
   "execution_count": 18,
   "metadata": {},
   "outputs": [
    {
     "name": "stderr",
     "output_type": "stream",
     "text": [
      "C:\\Users\\usrni\\AppData\\Local\\Temp\\ipykernel_10068\\3097053406.py:4: SettingWithCopyWarning: \n",
      "A value is trying to be set on a copy of a slice from a DataFrame.\n",
      "Try using .loc[row_indexer,col_indexer] = value instead\n",
      "\n",
      "See the caveats in the documentation: https://pandas.pydata.org/pandas-docs/stable/user_guide/indexing.html#returning-a-view-versus-a-copy\n",
      "  df['msg_stemmed']=df['no_stopwords'].apply(lambda x: stemming(x))\n"
     ]
    },
    {
     "data": {
      "text/html": [
       "<div>\n",
       "<style scoped>\n",
       "    .dataframe tbody tr th:only-of-type {\n",
       "        vertical-align: middle;\n",
       "    }\n",
       "\n",
       "    .dataframe tbody tr th {\n",
       "        vertical-align: top;\n",
       "    }\n",
       "\n",
       "    .dataframe thead th {\n",
       "        text-align: right;\n",
       "    }\n",
       "</style>\n",
       "<table border=\"1\" class=\"dataframe\">\n",
       "  <thead>\n",
       "    <tr style=\"text-align: right;\">\n",
       "      <th></th>\n",
       "      <th>movie</th>\n",
       "      <th>rating</th>\n",
       "      <th>title</th>\n",
       "      <th>content</th>\n",
       "      <th>clean_msg</th>\n",
       "      <th>msg_lower</th>\n",
       "      <th>tokens</th>\n",
       "      <th>no_stopwords</th>\n",
       "      <th>msg_stemmed</th>\n",
       "    </tr>\n",
       "  </thead>\n",
       "  <tbody>\n",
       "    <tr>\n",
       "      <th>0</th>\n",
       "      <td>The Shawshank Redemption</td>\n",
       "      <td>1/10</td>\n",
       "      <td>Pale imitation of better films</td>\n",
       "      <td>Three words: \"Cool Hand Luke.\"  Same film, don...</td>\n",
       "      <td>Three words Cool Hand Luke  Same film done bet...</td>\n",
       "      <td>three words cool hand luke  same film done bet...</td>\n",
       "      <td>[three, words, cool, hand, luke, same, film, d...</td>\n",
       "      <td>[words, cool, hand, luke, film, earlier, matte...</td>\n",
       "      <td>[word, cool, hand, luke, film, earlier, matter...</td>\n",
       "    </tr>\n",
       "    <tr>\n",
       "      <th>1</th>\n",
       "      <td>The Shawshank Redemption</td>\n",
       "      <td>1/10</td>\n",
       "      <td>Didactic and overlong</td>\n",
       "      <td>Another one of those overlong morally right-on...</td>\n",
       "      <td>Another one of those overlong morally righton ...</td>\n",
       "      <td>another one of those overlong morally righton ...</td>\n",
       "      <td>[another, one, of, those, overlong, morally, r...</td>\n",
       "      <td>[overlong, morally, righton, movies, rises, av...</td>\n",
       "      <td>[overlong, moral, righton, movi, rise, averag,...</td>\n",
       "    </tr>\n",
       "    <tr>\n",
       "      <th>2</th>\n",
       "      <td>The Shawshank Redemption</td>\n",
       "      <td>1/10</td>\n",
       "      <td>Mediocre people reward mediocre cinema.</td>\n",
       "      <td>It bugs me that this movie is rated so high- n...</td>\n",
       "      <td>It bugs me that this movie is rated so high no...</td>\n",
       "      <td>it bugs me that this movie is rated so high no...</td>\n",
       "      <td>[it, bugs, me, that, this, movie, is, rated, s...</td>\n",
       "      <td>[bugs, movie, rated, high, bad, movie, mediocr...</td>\n",
       "      <td>[bug, movi, rate, high, bad, movi, mediocr, ap...</td>\n",
       "    </tr>\n",
       "    <tr>\n",
       "      <th>3</th>\n",
       "      <td>The Shawshank Redemption</td>\n",
       "      <td>1/10</td>\n",
       "      <td>The plain &amp; simple truth. It doesn\\'t deserve ...</td>\n",
       "      <td>just read the title. Tough I think it's a pret...</td>\n",
       "      <td>just read the title Tough I think its a pretty...</td>\n",
       "      <td>just read the title tough i think its a pretty...</td>\n",
       "      <td>[just, read, the, title, tough, i, think, its,...</td>\n",
       "      <td>[just, read, title, tough, think, pretty, dece...</td>\n",
       "      <td>[just, read, titl, tough, think, pretti, decen...</td>\n",
       "    </tr>\n",
       "    <tr>\n",
       "      <th>4</th>\n",
       "      <td>The Shawshank Redemption</td>\n",
       "      <td>1/10</td>\n",
       "      <td>Not the greatest movie of all time</td>\n",
       "      <td>Shawshank is nothing more than a fairy tale.  ...</td>\n",
       "      <td>Shawshank is nothing more than a fairy tale  I...</td>\n",
       "      <td>shawshank is nothing more than a fairy tale  i...</td>\n",
       "      <td>[shawshank, is, nothing, more, than, a, fairy,...</td>\n",
       "      <td>[shawshank, fairy, tale, tells, prison, like, ...</td>\n",
       "      <td>[shawshank, fairi, tale, tell, prison, like, p...</td>\n",
       "    </tr>\n",
       "  </tbody>\n",
       "</table>\n",
       "</div>"
      ],
      "text/plain": [
       "                      movie rating  \\\n",
       "0  The Shawshank Redemption   1/10   \n",
       "1  The Shawshank Redemption   1/10   \n",
       "2  The Shawshank Redemption   1/10   \n",
       "3  The Shawshank Redemption   1/10   \n",
       "4  The Shawshank Redemption   1/10   \n",
       "\n",
       "                                               title  \\\n",
       "0                     Pale imitation of better films   \n",
       "1                              Didactic and overlong   \n",
       "2            Mediocre people reward mediocre cinema.   \n",
       "3  The plain & simple truth. It doesn\\'t deserve ...   \n",
       "4                 Not the greatest movie of all time   \n",
       "\n",
       "                                             content  \\\n",
       "0  Three words: \"Cool Hand Luke.\"  Same film, don...   \n",
       "1  Another one of those overlong morally right-on...   \n",
       "2  It bugs me that this movie is rated so high- n...   \n",
       "3  just read the title. Tough I think it's a pret...   \n",
       "4  Shawshank is nothing more than a fairy tale.  ...   \n",
       "\n",
       "                                           clean_msg  \\\n",
       "0  Three words Cool Hand Luke  Same film done bet...   \n",
       "1  Another one of those overlong morally righton ...   \n",
       "2  It bugs me that this movie is rated so high no...   \n",
       "3  just read the title Tough I think its a pretty...   \n",
       "4  Shawshank is nothing more than a fairy tale  I...   \n",
       "\n",
       "                                           msg_lower  \\\n",
       "0  three words cool hand luke  same film done bet...   \n",
       "1  another one of those overlong morally righton ...   \n",
       "2  it bugs me that this movie is rated so high no...   \n",
       "3  just read the title tough i think its a pretty...   \n",
       "4  shawshank is nothing more than a fairy tale  i...   \n",
       "\n",
       "                                              tokens  \\\n",
       "0  [three, words, cool, hand, luke, same, film, d...   \n",
       "1  [another, one, of, those, overlong, morally, r...   \n",
       "2  [it, bugs, me, that, this, movie, is, rated, s...   \n",
       "3  [just, read, the, title, tough, i, think, its,...   \n",
       "4  [shawshank, is, nothing, more, than, a, fairy,...   \n",
       "\n",
       "                                        no_stopwords  \\\n",
       "0  [words, cool, hand, luke, film, earlier, matte...   \n",
       "1  [overlong, morally, righton, movies, rises, av...   \n",
       "2  [bugs, movie, rated, high, bad, movie, mediocr...   \n",
       "3  [just, read, title, tough, think, pretty, dece...   \n",
       "4  [shawshank, fairy, tale, tells, prison, like, ...   \n",
       "\n",
       "                                         msg_stemmed  \n",
       "0  [word, cool, hand, luke, film, earlier, matter...  \n",
       "1  [overlong, moral, righton, movi, rise, averag,...  \n",
       "2  [bug, movi, rate, high, bad, movi, mediocr, ap...  \n",
       "3  [just, read, titl, tough, think, pretti, decen...  \n",
       "4  [shawshank, fairi, tale, tell, prison, like, p...  "
      ]
     },
     "execution_count": 18,
     "metadata": {},
     "output_type": "execute_result"
    }
   ],
   "source": [
    "def stemming(text):\n",
    "    stem_text = [porter_stemmer.stem(word) for word in text]\n",
    "    return stem_text\n",
    "df['msg_stemmed']=df['no_stopwords'].apply(lambda x: stemming(x))\n",
    "df.head()"
   ]
  },
  {
   "cell_type": "code",
   "execution_count": 19,
   "metadata": {},
   "outputs": [
    {
     "data": {
      "text/plain": [
       "0        [word, cool, hand, luke, film, earlier, matter...\n",
       "1        [overlong, moral, righton, movi, rise, averag,...\n",
       "2        [bug, movi, rate, high, bad, movi, mediocr, ap...\n",
       "3        [just, read, titl, tough, think, pretti, decen...\n",
       "4        [shawshank, fairi, tale, tell, prison, like, p...\n",
       "                               ...                        \n",
       "20306    [peter, lorr, best, child, serial, killer, cin...\n",
       "20307    [enjoy, watch, film, see, peter, lorr, act, kn...\n",
       "20308    [influenti, film, film, stori, psychot, killer...\n",
       "20309    [will, take, time, prais, film, far, can, like...\n",
       "20310    [found, todd, solendz, recent, film, happi, ef...\n",
       "Name: msg_stemmed, Length: 20311, dtype: object"
      ]
     },
     "execution_count": 19,
     "metadata": {},
     "output_type": "execute_result"
    }
   ],
   "source": [
    "df['msg_stemmed']"
   ]
  },
  {
   "cell_type": "code",
   "execution_count": 20,
   "metadata": {},
   "outputs": [
    {
     "name": "stderr",
     "output_type": "stream",
     "text": [
      "[nltk_data] Downloading package wordnet to\n",
      "[nltk_data]     C:\\Users\\usrni\\AppData\\Roaming\\nltk_data...\n",
      "[nltk_data]   Package wordnet is already up-to-date!\n"
     ]
    },
    {
     "data": {
      "text/plain": [
       "True"
      ]
     },
     "execution_count": 20,
     "metadata": {},
     "output_type": "execute_result"
    }
   ],
   "source": [
    "nltk.download('wordnet')"
   ]
  },
  {
   "cell_type": "markdown",
   "metadata": {},
   "source": [
    "## Lemmatization process"
   ]
  },
  {
   "cell_type": "code",
   "execution_count": 21,
   "metadata": {},
   "outputs": [],
   "source": [
    "from nltk.stem import WordNetLemmatizer"
   ]
  },
  {
   "cell_type": "code",
   "execution_count": 22,
   "metadata": {},
   "outputs": [
    {
     "name": "stderr",
     "output_type": "stream",
     "text": [
      "[nltk_data] Downloading package omw-1.4 to\n",
      "[nltk_data]     C:\\Users\\usrni\\AppData\\Roaming\\nltk_data...\n",
      "[nltk_data]   Package omw-1.4 is already up-to-date!\n"
     ]
    },
    {
     "data": {
      "text/plain": [
       "True"
      ]
     },
     "execution_count": 22,
     "metadata": {},
     "output_type": "execute_result"
    }
   ],
   "source": [
    "nltk.download('omw-1.4')"
   ]
  },
  {
   "cell_type": "code",
   "execution_count": 23,
   "metadata": {},
   "outputs": [],
   "source": [
    "wordnet_lemmatizer = WordNetLemmatizer()\n",
    "#defining the function for lemmatization\n",
    "def lemmatizer(text):\n",
    "    lemm_text = [wordnet_lemmatizer.lemmatize(word) for word in text]\n",
    "    return lemm_text\n",
    "df['msg_lemmatized']=df['no_stopwords'].apply(lambda x:lemmatizer(x))"
   ]
  },
  {
   "cell_type": "code",
   "execution_count": 56,
   "metadata": {},
   "outputs": [
    {
     "data": {
      "text/plain": [
       "movie                                                    Casablanca\n",
       "rating                                                         4/10\n",
       "title                                                    Casaboring\n",
       "content           This is noting but a boring story. it take pla...\n",
       "clean_msg         This is noting but a boring story it take plac...\n",
       "msg_lower         this is noting but a boring story it take plac...\n",
       "tokens            [this, is, noting, but, a, boring, story, it, ...\n",
       "no_stopwords      [noting, boring, story, take, place, world, wa...\n",
       "msg_stemmed       [note, bore, stori, take, place, world, war, i...\n",
       "msg_lemmatized    [noting, boring, story, take, place, world, wa...\n",
       "Name: 10000, dtype: object"
      ]
     },
     "execution_count": 56,
     "metadata": {},
     "output_type": "execute_result"
    }
   ],
   "source": [
    "df.iloc[10000]"
   ]
  },
  {
   "cell_type": "markdown",
   "metadata": {},
   "source": [
    "## n-gram"
   ]
  },
  {
   "cell_type": "code",
   "execution_count": 25,
   "metadata": {},
   "outputs": [],
   "source": [
    "import numpy as np"
   ]
  },
  {
   "cell_type": "code",
   "execution_count": 26,
   "metadata": {},
   "outputs": [],
   "source": [
    "from functools import partial\n",
    "from pprint import pprint\n",
    "import math\n",
    "from expects import be_true, expect, have_keys\n",
    "from tabulate import tabulate\n"
   ]
  },
  {
   "cell_type": "code",
   "execution_count": 27,
   "metadata": {},
   "outputs": [],
   "source": [
    "import re\n",
    "from nltk.util import ngrams\n",
    " \n",
    "s = \"Natural-language processing (NLP) is an area of computer science \" \\\n",
    "    \"and artificial intelligence concerned with the interactions \" \\\n",
    "    \"between computers and human (natural) languages.\"\n",
    " \n",
    "s = s.lower()\n",
    "s = re.sub(r'[^a-zA-Z0-9\\s]', ' ', s)\n",
    "tokens = [token for token in s.split(\" \") if token != \"\"]\n",
    "output = list(ngrams(tokens, 2))"
   ]
  },
  {
   "cell_type": "code",
   "execution_count": 35,
   "metadata": {},
   "outputs": [
    {
     "name": "stdout",
     "output_type": "stream",
     "text": [
      "[('natural', 'language'), ('language', 'processing'), ('processing', 'nlp'), ('nlp', 'is'), ('is', 'an'), ('an', 'area'), ('area', 'of'), ('of', 'computer'), ('computer', 'science'), ('science', 'and'), ('and', 'artificial'), ('artificial', 'intelligence'), ('intelligence', 'concerned'), ('concerned', 'with'), ('with', 'the'), ('the', 'interactions'), ('interactions', 'between'), ('between', 'computers'), ('computers', 'and'), ('and', 'human'), ('human', 'natural'), ('natural', 'languages')]\n"
     ]
    }
   ],
   "source": [
    "print(output)"
   ]
  },
  {
   "cell_type": "code",
   "execution_count": 53,
   "metadata": {},
   "outputs": [],
   "source": [
    "# from nltk.corpus import reuters\n",
    "# from nltk import bigrams, trigrams\n",
    "# from collections import Counter, defaultdict\n",
    "# # Create a placeholder for model\n",
    "# model = defaultdict(lambda: defaultdict(lambda: 0))\n",
    "# # Count frequency of co-occurrence  \n",
    "# for sentence in df['msg_lemmatized']:\n",
    "#     for w1, w2, w3 in trigrams(sentence, pad_right=True, pad_left=True):\n",
    "#         model[(w1, w2)][w3] += 1\n",
    "#  # Let's transform the counts to probabilities\n",
    "# for w1_w2 in model:\n",
    "#     total_count = float(sum(model[w1_w2].values()))\n",
    "#     for w3 in model[w1_w2]:\n",
    "#         model[w1_w2][w3] /= total_count\n",
    "\n",
    "from nltk.corpus import reuters\n",
    "from nltk import bigrams, trigrams\n",
    "from collections import Counter, defaultdict\n",
    "# Create a placeholder for model\n",
    "model = defaultdict(lambda: defaultdict(lambda: 0))\n",
    "# Count frequency of co-occurrence  \n",
    "for w1, w2, w3 in trigrams(df['msg_lemmatized'].iloc[10000], pad_right=True, pad_left=True):\n",
    "    model[(w1, w2)][w3] += 1\n",
    " # Let's transform the counts to probabilities\n",
    "for w1_w2 in model:\n",
    "    total_count = float(sum(model[w1_w2].values()))\n",
    "    for w3 in model[w1_w2]:\n",
    "        model[w1_w2][w3] /= total_count"
   ]
  },
  {
   "cell_type": "code",
   "execution_count": 54,
   "metadata": {},
   "outputs": [
    {
     "data": {
      "text/plain": [
       "defaultdict(<function __main__.<lambda>()>,\n",
       "            {(None,\n",
       "              None): defaultdict(<function __main__.<lambda>.<locals>.<lambda>()>,\n",
       "                         {'noting': 1.0}),\n",
       "             (None,\n",
       "              'noting'): defaultdict(<function __main__.<lambda>.<locals>.<lambda>()>,\n",
       "                         {'boring': 1.0}),\n",
       "             ('noting',\n",
       "              'boring'): defaultdict(<function __main__.<lambda>.<locals>.<lambda>()>,\n",
       "                         {'story': 1.0}),\n",
       "             ('boring',\n",
       "              'story'): defaultdict(<function __main__.<lambda>.<locals>.<lambda>()>,\n",
       "                         {'take': 1.0}),\n",
       "             ('story',\n",
       "              'take'): defaultdict(<function __main__.<lambda>.<locals>.<lambda>()>,\n",
       "                         {'place': 1.0}),\n",
       "             ('take',\n",
       "              'place'): defaultdict(<function __main__.<lambda>.<locals>.<lambda>()>,\n",
       "                         {'world': 1.0}),\n",
       "             ('place',\n",
       "              'world'): defaultdict(<function __main__.<lambda>.<locals>.<lambda>()>,\n",
       "                         {'war': 1.0}),\n",
       "             ('world',\n",
       "              'war'): defaultdict(<function __main__.<lambda>.<locals>.<lambda>()>,\n",
       "                         {'ii': 1.0}),\n",
       "             ('war',\n",
       "              'ii'): defaultdict(<function __main__.<lambda>.<locals>.<lambda>()>,\n",
       "                         {'world': 0.5, 'movie': 0.5}),\n",
       "             ('ii',\n",
       "              'world'): defaultdict(<function __main__.<lambda>.<locals>.<lambda>()>,\n",
       "                         {'war': 1.0}),\n",
       "             ('ii',\n",
       "              'movie'): defaultdict(<function __main__.<lambda>.<locals>.<lambda>()>,\n",
       "                         {'mush': 1.0}),\n",
       "             ('movie',\n",
       "              'mush'): defaultdict(<function __main__.<lambda>.<locals>.<lambda>()>,\n",
       "                         {'just': 1.0}),\n",
       "             ('mush',\n",
       "              'just'): defaultdict(<function __main__.<lambda>.<locals>.<lambda>()>,\n",
       "                         {'love': 1.0}),\n",
       "             ('just',\n",
       "              'love'): defaultdict(<function __main__.<lambda>.<locals>.<lambda>()>,\n",
       "                         {'story': 1.0}),\n",
       "             ('love',\n",
       "              'story'): defaultdict(<function __main__.<lambda>.<locals>.<lambda>()>,\n",
       "                         {'badly': 1.0}),\n",
       "             ('story',\n",
       "              'badly'): defaultdict(<function __main__.<lambda>.<locals>.<lambda>()>,\n",
       "                         {'written': 1.0}),\n",
       "             ('badly',\n",
       "              'written'): defaultdict(<function __main__.<lambda>.<locals>.<lambda>()>,\n",
       "                         {'overrated': 1.0}),\n",
       "             ('written',\n",
       "              'overrated'): defaultdict(<function __main__.<lambda>.<locals>.<lambda>()>,\n",
       "                         {None: 1.0}),\n",
       "             ('overrated',\n",
       "              None): defaultdict(<function __main__.<lambda>.<locals>.<lambda>()>,\n",
       "                         {None: 1.0})})"
      ]
     },
     "execution_count": 54,
     "metadata": {},
     "output_type": "execute_result"
    }
   ],
   "source": [
    "model"
   ]
  },
  {
   "cell_type": "code",
   "execution_count": 64,
   "metadata": {},
   "outputs": [
    {
     "name": "stdout",
     "output_type": "stream",
     "text": [
      "{'take': 1.0}\n"
     ]
    }
   ],
   "source": [
    "#predict the model\n",
    "print(dict(model[\"boring\", \"story\"]))"
   ]
  },
  {
   "cell_type": "code",
   "execution_count": null,
   "metadata": {},
   "outputs": [],
   "source": []
  }
 ],
 "metadata": {
  "kernelspec": {
   "display_name": "base",
   "language": "python",
   "name": "python3"
  },
  "language_info": {
   "codemirror_mode": {
    "name": "ipython",
    "version": 3
   },
   "file_extension": ".py",
   "mimetype": "text/x-python",
   "name": "python",
   "nbconvert_exporter": "python",
   "pygments_lexer": "ipython3",
   "version": "3.9.12"
  },
  "orig_nbformat": 4
 },
 "nbformat": 4,
 "nbformat_minor": 2
}
